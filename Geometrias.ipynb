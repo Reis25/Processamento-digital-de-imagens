{
  "nbformat": 4,
  "nbformat_minor": 0,
  "metadata": {
    "colab": {
      "name": "Geometrias.ipynb",
      "provenance": [],
      "authorship_tag": "ABX9TyOP/LoHAkImmUtHA2F3AvcG",
      "include_colab_link": true
    },
    "kernelspec": {
      "name": "python3",
      "display_name": "Python 3"
    }
  },
  "cells": [
    {
      "cell_type": "markdown",
      "metadata": {
        "id": "view-in-github",
        "colab_type": "text"
      },
      "source": [
        "<a href=\"https://colab.research.google.com/github/Reis25/Processamento-digital-de-imagens/blob/master/Geometrias.ipynb\" target=\"_parent\"><img src=\"https://colab.research.google.com/assets/colab-badge.svg\" alt=\"Open In Colab\"/></a>"
      ]
    },
    {
      "cell_type": "code",
      "metadata": {
        "id": "vgCIB4i6NJCm",
        "colab_type": "code",
        "colab": {}
      },
      "source": [
        "import cv2\n",
        "import numpy as np\n",
        "import matplotlib.pyplot as plt\n",
        "import os\n",
        "import time"
      ],
      "execution_count": 1,
      "outputs": []
    },
    {
      "cell_type": "code",
      "metadata": {
        "id": "wqjgNQD8OewD",
        "colab_type": "code",
        "colab": {}
      },
      "source": [
        "def createWhiteDisk(height=100, width=100, xc=50, yc=50, rc=20):\n",
        "    disk = np.zeros((height, width), np.float64)\n",
        "    plt.imshow(disk, 'gray')\n",
        "    plt.show()\n",
        "    for x in range(disk.shape[0]):\n",
        "        for y in range(disk.shape[1]):\n",
        "            if (x - xc) * (x - xc) + (y - yc) * (y - yc) <= rc * rc:\n",
        "                disk[x][y] = 1.0\n",
        "    return disk\n",
        "\n",
        "rows = 500 # linhas\n",
        "cols = 500 # Colunas\n",
        "\n",
        "n = 30 # N circulos desejados\n",
        "\n",
        "np.random.seed(np.int64(time.time()))\n",
        "\n",
        "# Coordenas aleatorias em x e y\n",
        "xi = np.random.randint(0, cols, n)\n",
        "yi = np.random.randint(0, rows, n)\n",
        "\n",
        "# N raios aleatorios entre 10 e 30\n",
        "radii = np.random.randint(15, 40, n)\n",
        "\n",
        "img = np.zeros((rows, cols), dtype = np.uint8)\n",
        "\n",
        "for i in range(n):\n",
        "    disk = createWhiteDisk(rows, cols, xi[i], yi[i], radii[i]) != 0\n",
        "    img = img | disk\n",
        "    \n",
        "#plt.imshow(img, 'gray')\n",
        "#plt.show()"
      ],
      "execution_count": null,
      "outputs": []
    },
    {
      "cell_type": "markdown",
      "metadata": {
        "id": "w8E5HrmRNnJe",
        "colab_type": "text"
      },
      "source": [
        ""
      ]
    },
    {
      "cell_type": "code",
      "metadata": {
        "id": "gsHsNfLgQDyH",
        "colab_type": "code",
        "colab": {}
      },
      "source": [
        ""
      ],
      "execution_count": null,
      "outputs": []
    }
  ]
}